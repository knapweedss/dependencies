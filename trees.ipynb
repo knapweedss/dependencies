{
 "cells": [
  {
   "cell_type": "code",
   "execution_count": 2,
   "metadata": {},
   "outputs": [],
   "source": [
    "from nltk.grammar import DependencyGrammar\n",
    "from nltk.parse import DependencyGraph\n",
    "from collections import Counter\n",
    "import numpy as np\n",
    "import re\n",
    "import warnings\n",
    "import os\n",
    "#warnings.filterwarnings('ignore')"
   ]
  },
  {
   "cell_type": "code",
   "execution_count": 3,
   "metadata": {},
   "outputs": [
    {
     "data": {
      "text/plain": [
       "'test/aleks.conllu.txt'"
      ]
     },
     "execution_count": 3,
     "metadata": {},
     "output_type": "execute_result"
    }
   ],
   "source": [
    "path = 'test/'\n",
    "files = [path+file for file in os.listdir(path)]\n",
    "files[0]"
   ]
  },
  {
   "cell_type": "code",
   "execution_count": 4,
   "metadata": {},
   "outputs": [
    {
     "data": {
      "text/plain": [
       "['# sent_id = 3',\n",
       " '# text = От этого дома через улицу к крыльцу женской гимназии, где квартировал штаб какого-то полка, шла полоса раструшенного сена.',\n",
       " '1\\tОт\\tот\\tADP\\t_\\t_\\t3\\tcase\\t_\\t_',\n",
       " '2\\tэтого\\tэтот\\tDET\\t_\\tCase=Gen|Gender=Masc|Number=Sing\\t3\\tdet\\t_\\t_',\n",
       " '3\\tдома\\tдом\\tNOUN\\t_\\tAnimacy=Inan|Case=Gen|Gender=Masc|Number=Sing\\t17\\tobl\\t_\\t_',\n",
       " '4\\tчерез\\tчерез\\tADP\\t_\\t_\\t5\\tcase\\t_\\t_',\n",
       " '5\\tулицу\\tулица\\tNOUN\\t_\\tAnimacy=Inan|Case=Acc|Gender=Fem|Number=Sing\\t17\\tobl\\t_\\t_',\n",
       " '6\\tк\\tк\\tADP\\t_\\t_\\t7\\tcase\\t_\\t_',\n",
       " '7\\tкрыльцу\\tкрылец\\tNOUN\\t_\\tAnimacy=Inan|Case=Dat|Gender=Masc|Number=Sing\\t17\\tobl\\t_\\t_',\n",
       " '8\\tженской\\tженский\\tADJ\\t_\\tCase=Gen|Degree=Pos|Gender=Fem|Number=Sing\\t9\\tamod\\t_\\t_',\n",
       " '9\\tгимназии\\tгимназия\\tNOUN\\t_\\tAnimacy=Inan|Case=Gen|Gender=Fem|Number=Sing\\t7\\tnmod\\t_\\tSpaceAfter=No',\n",
       " '10\\t,\\t,\\tPUNCT\\t_\\t_\\t12\\tpunct\\t_\\t_',\n",
       " '11\\tгде\\tгде\\tADV\\t_\\tDegree=Pos\\t12\\tadvmod\\t_\\t_',\n",
       " '12\\tквартировал\\tквартировать\\tVERB\\t_\\tAspect=Imp|Gender=Masc|Mood=Ind|Number=Sing|Tense=Past|VerbForm=Fin|Voice=Act\\t9\\tacl:relcl\\t_\\t_',\n",
       " '13\\tштаб\\tштаб\\tNOUN\\t_\\tAnimacy=Inan|Case=Acc|Gender=Masc|Number=Sing\\t12\\tobj\\t_\\t_',\n",
       " '14\\tкакого-то\\tкакой-то\\tDET\\t_\\tCase=Gen|Gender=Masc|Number=Sing\\t15\\tdet\\t_\\t_',\n",
       " '15\\tполка\\tполк\\tNOUN\\t_\\tAnimacy=Inan|Case=Gen|Gender=Masc|Number=Sing\\t13\\tnmod\\t_\\tSpaceAfter=No',\n",
       " '16\\t,\\t,\\tPUNCT\\t_\\t_\\t12\\tpunct\\t_\\t_',\n",
       " '17\\tшла\\tидти\\tVERB\\t_\\tAspect=Imp|Gender=Fem|Mood=Ind|Number=Sing|Tense=Past|VerbForm=Fin|Voice=Act\\t0\\troot\\t_\\t_',\n",
       " '18\\tполоса\\tполоса\\tNOUN\\t_\\tAnimacy=Inan|Case=Nom|Gender=Fem|Number=Sing\\t17\\tnsubj\\t_\\t_',\n",
       " '19\\tраструшенного\\tраструшить\\tVERB\\t_\\tAspect=Perf|Case=Gen|Gender=Neut|Number=Sing|Tense=Past|VerbForm=Part|Voice=Pass\\t20\\tamod\\t_\\t_',\n",
       " '20\\tсена\\tсено\\tNOUN\\t_\\tAnimacy=Inan|Case=Gen|Gender=Neut|Number=Sing\\t18\\tnmod\\t_\\tSpaceAfter=No',\n",
       " '21\\t.\\t.\\tPUNCT\\t_\\t_\\t17\\tpunct\\t_\\t_']"
      ]
     },
     "execution_count": 4,
     "metadata": {},
     "output_type": "execute_result"
    }
   ],
   "source": [
    "file = open(files[0]).read()\n",
    "tree = [x for x in file.split('\\n\\n')[0].split('\\n')]\n",
    "tree"
   ]
  },
  {
   "cell_type": "code",
   "execution_count": 5,
   "metadata": {},
   "outputs": [],
   "source": [
    "trees = []\n",
    "\n",
    "for file in files:\n",
    "    parsed_sents = open(file).read().split('\\n\\n')\n",
    "    \n",
    "    for sent in parsed_sents:\n",
    "        tree = [line for line in sent.split('\\n') if line[0] != '#']\n",
    "        trees.append('\\n'.join(tree))"
   ]
  },
  {
   "cell_type": "code",
   "execution_count": 6,
   "metadata": {},
   "outputs": [
    {
     "data": {
      "text/plain": [
       "'1\\tСибири»\\tсибирия\\tPROPN\\t_\\tAnimacy=Inan|Case=Nom|Gender=Fem|Number=Sing\\t0\\troot\\t_\\tSpaceAfter=No\\n2\\t,\\t,\\tPUNCT\\t_\\t_\\t1\\tpunct\\t_\\t_\\n3\\tполагая\\tполагать\\tVERB\\t_\\tAspect=Imp|Tense=Pres|VerbForm=Conv|Voice=Act\\t1\\tacl\\t_\\tSpaceAfter=No\\n4\\t,\\t,\\tPUNCT\\t_\\t_\\t8\\tpunct\\t_\\t_\\n5\\tчто\\tчто\\tSCONJ\\t_\\t_\\t8\\tmark\\t_\\t_\\n6\\tпри\\tпри\\tADP\\t_\\t_\\t7\\tcase\\t_\\t_\\n7\\tнем\\tон\\tPRON\\t_\\tCase=Loc|Gender=Masc|Number=Sing|Person=3\\t8\\tobl\\t_\\t_\\n8\\tдолжен\\tдолжен\\tADJ\\t_\\tDegree=Pos|Gender=Masc|Number=Sing|Variant=Short\\t3\\tccomp\\t_\\t_\\n9\\tбыть\\tбыть\\tAUX\\t_\\tAspect=Imp|VerbForm=Inf|Voice=Act\\t10\\taux:pass\\t_\\t_\\n10\\tобразован\\tобразовать\\tVERB\\t_\\tAspect=Perf|Gender=Masc|Number=Sing|Tense=Past|Variant=Short|VerbForm=Part|Voice=Pass\\t8\\txcomp\\t_\\t_\\n11\\tотдел\\tотдел\\tNOUN\\t_\\tAnimacy=Inan|Case=Nom|Gender=Masc|Number=Sing\\t8\\tnsubj:pass\\t_\\t_\\n12\\tпо\\tпо\\tADP\\t_\\t_\\t13\\tcase\\t_\\t_\\n13\\tгород\\tгород\\tNOUN\\t_\\tAnimacy=Inan|Case=Acc|Gender=Masc|Number=Sing\\t11\\tnmod\\t_\\tSpaceAfter=No\\n14\\t,\\t,\\tPUNCT\\t_\\t_\\t15\\tpunct\\t_\\t_\\n15\\tсамоуправлению\\tсамоуправление\\tNOUN\\t_\\tAnimacy=Inan|Case=Dat|Gender=Neut|Number=Sing\\t13\\tconj\\t_\\tSpaceAfter=No\\n16\\t.\\t.\\tPUNCT\\t_\\t_\\t15\\tpunct\\t_\\t_'"
      ]
     },
     "execution_count": 6,
     "metadata": {},
     "output_type": "execute_result"
    }
   ],
   "source": [
    "trees[125]"
   ]
  },
  {
   "cell_type": "code",
   "execution_count": 7,
   "metadata": {},
   "outputs": [
    {
     "data": {
      "text/plain": [
       "['1 Я я PRON _ Case=Nom|Number=Sing|Person=1 2 nsubj _ _',\n",
       " '2 пошел пойти VERB _ Aspect=Perf|Gender=Masc|Mood=Ind|Number=Sing|Tense=Past|VerbForm=Fin|Voice=Act 0 root _ _',\n",
       " '3 тогда тогда ADV _ Degree=Pos 2 advmod _ _',\n",
       " '4 в в ADP _ _ 5 case _ _',\n",
       " '5 наборную наборный ADJ _ Case=Acc|Degree=Pos|Gender=Fem|Number=Sing 2 obl _ _',\n",
       " '6 узнать узнать VERB _ Aspect=Perf|VerbForm=Inf|Voice=Act 2 xcomp _ _',\n",
       " '7 настроение настроение NOUN _ Animacy=Inan|Case=Acc|Gender=Neut|Number=Sing 6 obj _ _',\n",
       " '8 рабочих рабочий NOUN _ Animacy=Anim|Case=Gen|Gender=Masc|Number=Plur 7 nmod _ SpaceAfter=No',\n",
       " '9 . . PUNCT _ _ 2 punct _ _']"
      ]
     },
     "execution_count": 7,
     "metadata": {},
     "output_type": "execute_result"
    }
   ],
   "source": [
    "[x.replace('\\t', ' ') for x in trees[12].split('\\n')]"
   ]
  },
  {
   "cell_type": "code",
   "execution_count": 8,
   "metadata": {},
   "outputs": [
    {
     "name": "stderr",
     "output_type": "stream",
     "text": [
      "/Users/mariadolgodvorova/opt/anaconda3/lib/python3.6/site-packages/nltk/parse/dependencygraph.py:399: UserWarning: The graph doesn't contain a node that depends on the root element.\n",
      "  \"The graph doesn't contain a node \" \"that depends on the root element.\"\n"
     ]
    }
   ],
   "source": [
    "d = DependencyGraph(trees[15])\n",
    "d.root = d.nodes[0]"
   ]
  },
  {
   "cell_type": "code",
   "execution_count": 9,
   "metadata": {},
   "outputs": [
    {
     "data": {
      "text/plain": [
       "[((None, 'TOP'), 'root', ('застал', 'VERB')),\n",
       " (('застал', 'VERB'), 'nsubj', ('Я', 'PRON')),\n",
       " (('застал', 'VERB'), 'obj', ('Иванова', 'PROPN')),\n",
       " (('застал', 'VERB'), 'obl', ('шубе', 'NOUN')),\n",
       " (('шубе', 'NOUN'), 'case', ('в', 'ADP')),\n",
       " (('шубе', 'NOUN'), 'conj', ('шапке', 'NOUN')),\n",
       " (('шапке', 'NOUN'), 'cc', ('и', 'CCONJ')),\n",
       " (('шапке', 'NOUN'), 'acl', ('уходящим', 'VERB')),\n",
       " (('застал', 'VERB'), 'conj', ('сказал', 'VERB')),\n",
       " (('сказал', 'VERB'), 'cc', ('и', 'CCONJ')),\n",
       " (('сказал', 'VERB'), 'iobj', ('ему', 'PRON')),\n",
       " (('сказал', 'VERB'), 'obl', ('разговорах', 'NOUN')),\n",
       " (('разговорах', 'NOUN'), 'case', ('о', 'ADP')),\n",
       " (('разговорах', 'NOUN'), 'det', ('своих', 'DET')),\n",
       " (('разговорах', 'NOUN'), 'nmod', ('рабочими', 'NOUN')),\n",
       " (('рабочими', 'NOUN'), 'case', ('с', 'ADP')),\n",
       " (('застал', 'VERB'), 'punct', ('.', 'PUNCT'))]"
      ]
     },
     "execution_count": 9,
     "metadata": {},
     "output_type": "execute_result"
    }
   ],
   "source": [
    "d.root = d.nodes[0] \n",
    "mynodes = list(d.triples())\n",
    "mynodes"
   ]
  },
  {
   "cell_type": "code",
   "execution_count": 10,
   "metadata": {},
   "outputs": [],
   "source": [
    "a = []\n",
    "s = -1\n",
    "for i in mynodes:\n",
    "    s = s + 1\n",
    "    if mynodes[s][2][1] == 'NOUN' or mynodes[s][2][1] == 'PROPN' or mynodes[s][2][1] == 'INTJ' or mynodes[s][2][1] == 'PRON':\n",
    "        if mynodes[s + 1][2][1] == 'DET' or mynodes[s + 1][2][1] == 'NUM' or mynodes[s + 1][2][1] == 'ADP':\n",
    "            a.append(mynodes[s + 1][2][0])\n",
    "            a.append(mynodes[s][2][0])\n",
    "      \n",
    "        elif mynodes[s - 1][2][1] == 'DET' or mynodes[s - 1][2][1] == 'NUM':\n",
    "            a.append(mynodes[s - 1][2][0])\n",
    "            a.append(mynodes[s][2][0])\n",
    "\n",
    "        else:\n",
    "            a.append(mynodes[s][2][0])\n",
    "\n",
    "    else:\n",
    "        pass"
   ]
  },
  {
   "cell_type": "code",
   "execution_count": 11,
   "metadata": {},
   "outputs": [
    {
     "data": {
      "text/plain": [
       "['Я',\n",
       " 'Иванова',\n",
       " 'в',\n",
       " 'шубе',\n",
       " 'шапке',\n",
       " 'ему',\n",
       " 'о',\n",
       " 'разговорах',\n",
       " 'с',\n",
       " 'рабочими']"
      ]
     },
     "execution_count": 11,
     "metadata": {},
     "output_type": "execute_result"
    }
   ],
   "source": [
    "a"
   ]
  },
  {
   "cell_type": "code",
   "execution_count": 12,
   "metadata": {},
   "outputs": [],
   "source": [
    "import matplotlib\n",
    "import matplotlib.pyplot as plt\n",
    "import networkx as nx\n",
    "%matplotlib inline"
   ]
  },
  {
   "cell_type": "code",
   "execution_count": 13,
   "metadata": {},
   "outputs": [
    {
     "name": "stderr",
     "output_type": "stream",
     "text": [
      "/Users/mariadolgodvorova/opt/anaconda3/lib/python3.6/site-packages/networkx/drawing/nx_pylab.py:579: MatplotlibDeprecationWarning: \n",
      "The iterable function was deprecated in Matplotlib 3.1 and will be removed in 3.3. Use np.iterable instead.\n",
      "  if not cb.iterable(width):\n",
      "/Users/mariadolgodvorova/opt/anaconda3/lib/python3.6/site-packages/networkx/drawing/nx_pylab.py:676: MatplotlibDeprecationWarning: \n",
      "The iterable function was deprecated in Matplotlib 3.1 and will be removed in 3.3. Use np.iterable instead.\n",
      "  if cb.iterable(node_size):  # many node sizes\n"
     ]
    },
    {
     "data": {
      "image/png": "[encoded data removed]",
      "text/plain": [
       "<Figure size 720x720 with 1 Axes>"
      ]
     },
     "metadata": {},
     "output_type": "display_data"
    }
   ],
   "source": [
    "plt.figure(figsize=(10,10))\n",
    "nx.draw(d.nx_graph(), labels=d.nx_labels, node_size=500)\n"
   ]
  },
  {
   "cell_type": "code",
   "execution_count": 14,
   "metadata": {},
   "outputs": [],
   "source": [
    "def get_subtree(nodes, node):\n",
    "    \n",
    "    \n",
    "    if not nodes[node]['deps']:\n",
    "        return [node]\n",
    "    \n",
    "    else:\n",
    "        return [node] + [get_subtree(nodes, dep) for rel in nodes[node]['deps'] \n",
    "                         if rel != 'punct'  # пунктуацию доставать не будем\n",
    "                         for dep in nodes[node]['deps'][rel]]"
   ]
  },
  {
   "cell_type": "code",
   "execution_count": 15,
   "metadata": {},
   "outputs": [
    {
     "data": {
      "text/plain": [
       "[6]"
      ]
     },
     "execution_count": 15,
     "metadata": {},
     "output_type": "execute_result"
    }
   ],
   "source": [
    "get_subtree(d.nodes, 6)"
   ]
  },
  {
   "cell_type": "code",
   "execution_count": 16,
   "metadata": {},
   "outputs": [],
   "source": [
    "def flatten(l):\n",
    "    flat = []\n",
    "    for el in l:\n",
    "        if not isinstance(el, list):\n",
    "            flat.append(el)\n",
    "        else:\n",
    "            flat += flatten(el)\n",
    "    return flat"
   ]
  },
  {
   "cell_type": "code",
   "execution_count": 17,
   "metadata": {},
   "outputs": [
    {
     "data": {
      "text/plain": [
       "[5, 4, 7, 6, 8]"
      ]
     },
     "execution_count": 17,
     "metadata": {},
     "output_type": "execute_result"
    }
   ],
   "source": [
    "flatten(get_subtree(d.nodes, 5))"
   ]
  },
  {
   "cell_type": "code",
   "execution_count": 18,
   "metadata": {},
   "outputs": [
    {
     "data": {
      "text/plain": [
       "['застал',\n",
       " 'Я',\n",
       " 'Иванова',\n",
       " 'шубе',\n",
       " 'в',\n",
       " 'шапке',\n",
       " 'и',\n",
       " 'уходящим',\n",
       " 'сказал',\n",
       " 'и',\n",
       " 'ему',\n",
       " 'разговорах',\n",
       " 'о',\n",
       " 'своих',\n",
       " 'рабочими',\n",
       " 'с']"
      ]
     },
     "execution_count": 18,
     "metadata": {},
     "output_type": "execute_result"
    }
   ],
   "source": [
    "[d.nodes[i]['word'] for i in flatten(get_subtree(d.nodes, 2))]"
   ]
  },
  {
   "cell_type": "code",
   "execution_count": 22,
   "metadata": {},
   "outputs": [
    {
     "data": {
      "text/plain": [
       "['в', 'шубе', 'и', 'шапке', 'уходящим']"
      ]
     },
     "execution_count": 22,
     "metadata": {},
     "output_type": "execute_result"
    }
   ],
   "source": [
    "[d.nodes[i]['word'] for i in sorted(flatten(get_subtree(d.nodes, 5)))]"
   ]
  }
 ],
 "metadata": {
  "kernelspec": {
   "display_name": "Python 3",
   "language": "python",
   "name": "python3"
  },
  "language_info": {
   "codemirror_mode": {
    "name": "ipython",
    "version": 3
   },
   "file_extension": ".py",
   "mimetype": "text/x-python",
   "name": "python",
   "nbconvert_exporter": "python",
   "pygments_lexer": "ipython3",
   "version": "3.6.9"
  }
 },
 "nbformat": 4,
 "nbformat_minor": 2
}
